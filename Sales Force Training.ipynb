{
 "cells": [
  {
   "cell_type": "code",
   "execution_count": 1,
   "id": "8f44c593-d03c-459e-b24c-7ead2899aa54",
   "metadata": {},
   "outputs": [],
   "source": [
    "import pandas as pd\n",
    "import numpy as np"
   ]
  },
  {
   "cell_type": "code",
   "execution_count": 2,
   "id": "119187c6-7839-4804-9d7c-d0502c277428",
   "metadata": {},
   "outputs": [
    {
     "data": {
      "text/html": [
       "<div>\n",
       "<style scoped>\n",
       "    .dataframe tbody tr th:only-of-type {\n",
       "        vertical-align: middle;\n",
       "    }\n",
       "\n",
       "    .dataframe tbody tr th {\n",
       "        vertical-align: top;\n",
       "    }\n",
       "\n",
       "    .dataframe thead th {\n",
       "        text-align: right;\n",
       "    }\n",
       "</style>\n",
       "<table border=\"1\" class=\"dataframe\">\n",
       "  <thead>\n",
       "    <tr style=\"text-align: right;\">\n",
       "      <th></th>\n",
       "      <th>sales_id</th>\n",
       "      <th>transaction_amount</th>\n",
       "    </tr>\n",
       "  </thead>\n",
       "  <tbody>\n",
       "    <tr>\n",
       "      <th>0</th>\n",
       "      <td>S1</td>\n",
       "      <td>100</td>\n",
       "    </tr>\n",
       "    <tr>\n",
       "      <th>1</th>\n",
       "      <td>S2</td>\n",
       "      <td>150</td>\n",
       "    </tr>\n",
       "    <tr>\n",
       "      <th>2</th>\n",
       "      <td>S3</td>\n",
       "      <td>50</td>\n",
       "    </tr>\n",
       "    <tr>\n",
       "      <th>3</th>\n",
       "      <td>S4</td>\n",
       "      <td>100</td>\n",
       "    </tr>\n",
       "    <tr>\n",
       "      <th>4</th>\n",
       "      <td>S5</td>\n",
       "      <td>130</td>\n",
       "    </tr>\n",
       "    <tr>\n",
       "      <th>5</th>\n",
       "      <td>S6</td>\n",
       "      <td>120</td>\n",
       "    </tr>\n",
       "    <tr>\n",
       "      <th>6</th>\n",
       "      <td>S7</td>\n",
       "      <td>100</td>\n",
       "    </tr>\n",
       "    <tr>\n",
       "      <th>7</th>\n",
       "      <td>S8</td>\n",
       "      <td>85</td>\n",
       "    </tr>\n",
       "    <tr>\n",
       "      <th>8</th>\n",
       "      <td>S9</td>\n",
       "      <td>70</td>\n",
       "    </tr>\n",
       "    <tr>\n",
       "      <th>9</th>\n",
       "      <td>S10</td>\n",
       "      <td>150</td>\n",
       "    </tr>\n",
       "    <tr>\n",
       "      <th>10</th>\n",
       "      <td>S11</td>\n",
       "      <td>150</td>\n",
       "    </tr>\n",
       "    <tr>\n",
       "      <th>11</th>\n",
       "      <td>S12</td>\n",
       "      <td>120</td>\n",
       "    </tr>\n",
       "    <tr>\n",
       "      <th>12</th>\n",
       "      <td>S13</td>\n",
       "      <td>50</td>\n",
       "    </tr>\n",
       "    <tr>\n",
       "      <th>13</th>\n",
       "      <td>S14</td>\n",
       "      <td>100</td>\n",
       "    </tr>\n",
       "    <tr>\n",
       "      <th>14</th>\n",
       "      <td>S15</td>\n",
       "      <td>100</td>\n",
       "    </tr>\n",
       "    <tr>\n",
       "      <th>15</th>\n",
       "      <td>S16</td>\n",
       "      <td>140</td>\n",
       "    </tr>\n",
       "    <tr>\n",
       "      <th>16</th>\n",
       "      <td>S17</td>\n",
       "      <td>90</td>\n",
       "    </tr>\n",
       "    <tr>\n",
       "      <th>17</th>\n",
       "      <td>S18</td>\n",
       "      <td>150</td>\n",
       "    </tr>\n",
       "    <tr>\n",
       "      <th>18</th>\n",
       "      <td>S19</td>\n",
       "      <td>50</td>\n",
       "    </tr>\n",
       "    <tr>\n",
       "      <th>19</th>\n",
       "      <td>S20</td>\n",
       "      <td>90</td>\n",
       "    </tr>\n",
       "    <tr>\n",
       "      <th>20</th>\n",
       "      <td>S21</td>\n",
       "      <td>120</td>\n",
       "    </tr>\n",
       "    <tr>\n",
       "      <th>21</th>\n",
       "      <td>S22</td>\n",
       "      <td>100</td>\n",
       "    </tr>\n",
       "    <tr>\n",
       "      <th>22</th>\n",
       "      <td>S23</td>\n",
       "      <td>110</td>\n",
       "    </tr>\n",
       "    <tr>\n",
       "      <th>23</th>\n",
       "      <td>S24</td>\n",
       "      <td>75</td>\n",
       "    </tr>\n",
       "    <tr>\n",
       "      <th>24</th>\n",
       "      <td>S25</td>\n",
       "      <td>65</td>\n",
       "    </tr>\n",
       "  </tbody>\n",
       "</table>\n",
       "</div>"
      ],
      "text/plain": [
       "   sales_id  transaction_amount\n",
       "0        S1                 100\n",
       "1        S2                 150\n",
       "2        S3                  50\n",
       "3        S4                 100\n",
       "4        S5                 130\n",
       "5        S6                 120\n",
       "6        S7                 100\n",
       "7        S8                  85\n",
       "8        S9                  70\n",
       "9       S10                 150\n",
       "10      S11                 150\n",
       "11      S12                 120\n",
       "12      S13                  50\n",
       "13      S14                 100\n",
       "14      S15                 100\n",
       "15      S16                 140\n",
       "16      S17                  90\n",
       "17      S18                 150\n",
       "18      S19                  50\n",
       "19      S20                  90\n",
       "20      S21                 120\n",
       "21      S22                 100\n",
       "22      S23                 110\n",
       "23      S24                  75\n",
       "24      S25                  65"
      ]
     },
     "execution_count": 2,
     "metadata": {},
     "output_type": "execute_result"
    }
   ],
   "source": [
    "TransactionAmount = pd.DataFrame([[\"S1\", 100],\n",
    "                                  [\"S2\", 150],\n",
    "                                  [\"S3\", 50],\n",
    "                                  [\"S4\", 100],\n",
    "                                  [\"S5\", 130],\n",
    "                                  [\"S6\", 120],\n",
    "                                  [\"S7\", 100],\n",
    "                                  [\"S8\", 85],\n",
    "                                  [\"S9\", 70],\n",
    "                                  [\"S10\", 150],\n",
    "                                  [\"S11\", 150],\n",
    "                                  [\"S12\", 120],\n",
    "                                  [\"S13\", 50],\n",
    "                                  [\"S14\", 100],\n",
    "                                  [\"S15\", 100],\n",
    "                                  [\"S16\", 140],\n",
    "                                  [\"S17\", 90],\n",
    "                                  [\"S18\", 150],\n",
    "                                  [\"S19\", 50],\n",
    "                                  [\"S20\", 90],\n",
    "                                  [\"S21\", 120],\n",
    "                                  [\"S22\", 100],\n",
    "                                  [\"S23\", 110],\n",
    "                                  [\"S24\", 75],\n",
    "                                  [\"S25\", 65]],\n",
    "                                  columns = [\"sales_id\", \"transaction_amount\"])\n",
    "TransactionAmount"
   ]
  },
  {
   "cell_type": "code",
   "execution_count": 3,
   "id": "1ef83d33-fe28-40dd-a590-903e0fecbe0f",
   "metadata": {},
   "outputs": [],
   "source": [
    "TransactionAmount.to_csv(\"TransactionAmount.csv\", index = False)\n",
    "TransactionAmount.to_excel(\"TransactionAmount.xlsx\", index = False)"
   ]
  },
  {
   "cell_type": "code",
   "execution_count": 4,
   "id": "4988ed11-8672-4edc-a2be-135321729cb2",
   "metadata": {},
   "outputs": [],
   "source": [
    "TransactionAmount = pd.read_csv(\"TransactionAmount.csv\")\n",
    "TransactionAmount = pd.read_excel(\"TransactionAmount.xlsx\")"
   ]
  },
  {
   "cell_type": "code",
   "execution_count": 5,
   "id": "13167138-215a-4436-a543-7c4c8df8c291",
   "metadata": {},
   "outputs": [
    {
     "data": {
      "text/html": [
       "<div>\n",
       "<style scoped>\n",
       "    .dataframe tbody tr th:only-of-type {\n",
       "        vertical-align: middle;\n",
       "    }\n",
       "\n",
       "    .dataframe tbody tr th {\n",
       "        vertical-align: top;\n",
       "    }\n",
       "\n",
       "    .dataframe thead th {\n",
       "        text-align: right;\n",
       "    }\n",
       "</style>\n",
       "<table border=\"1\" class=\"dataframe\">\n",
       "  <thead>\n",
       "    <tr style=\"text-align: right;\">\n",
       "      <th></th>\n",
       "      <th>sales_id</th>\n",
       "      <th>transaction_amount</th>\n",
       "    </tr>\n",
       "  </thead>\n",
       "  <tbody>\n",
       "    <tr>\n",
       "      <th>0</th>\n",
       "      <td>S1</td>\n",
       "      <td>100</td>\n",
       "    </tr>\n",
       "    <tr>\n",
       "      <th>1</th>\n",
       "      <td>S2</td>\n",
       "      <td>150</td>\n",
       "    </tr>\n",
       "    <tr>\n",
       "      <th>2</th>\n",
       "      <td>S3</td>\n",
       "      <td>50</td>\n",
       "    </tr>\n",
       "    <tr>\n",
       "      <th>3</th>\n",
       "      <td>S4</td>\n",
       "      <td>100</td>\n",
       "    </tr>\n",
       "    <tr>\n",
       "      <th>4</th>\n",
       "      <td>S5</td>\n",
       "      <td>130</td>\n",
       "    </tr>\n",
       "    <tr>\n",
       "      <th>5</th>\n",
       "      <td>S6</td>\n",
       "      <td>120</td>\n",
       "    </tr>\n",
       "    <tr>\n",
       "      <th>6</th>\n",
       "      <td>S7</td>\n",
       "      <td>100</td>\n",
       "    </tr>\n",
       "    <tr>\n",
       "      <th>7</th>\n",
       "      <td>S8</td>\n",
       "      <td>85</td>\n",
       "    </tr>\n",
       "    <tr>\n",
       "      <th>8</th>\n",
       "      <td>S9</td>\n",
       "      <td>70</td>\n",
       "    </tr>\n",
       "    <tr>\n",
       "      <th>9</th>\n",
       "      <td>S10</td>\n",
       "      <td>150</td>\n",
       "    </tr>\n",
       "    <tr>\n",
       "      <th>10</th>\n",
       "      <td>S11</td>\n",
       "      <td>150</td>\n",
       "    </tr>\n",
       "    <tr>\n",
       "      <th>11</th>\n",
       "      <td>S12</td>\n",
       "      <td>120</td>\n",
       "    </tr>\n",
       "    <tr>\n",
       "      <th>12</th>\n",
       "      <td>S13</td>\n",
       "      <td>50</td>\n",
       "    </tr>\n",
       "    <tr>\n",
       "      <th>13</th>\n",
       "      <td>S14</td>\n",
       "      <td>100</td>\n",
       "    </tr>\n",
       "    <tr>\n",
       "      <th>14</th>\n",
       "      <td>S15</td>\n",
       "      <td>100</td>\n",
       "    </tr>\n",
       "    <tr>\n",
       "      <th>15</th>\n",
       "      <td>S16</td>\n",
       "      <td>140</td>\n",
       "    </tr>\n",
       "    <tr>\n",
       "      <th>16</th>\n",
       "      <td>S17</td>\n",
       "      <td>90</td>\n",
       "    </tr>\n",
       "    <tr>\n",
       "      <th>17</th>\n",
       "      <td>S18</td>\n",
       "      <td>150</td>\n",
       "    </tr>\n",
       "    <tr>\n",
       "      <th>18</th>\n",
       "      <td>S19</td>\n",
       "      <td>50</td>\n",
       "    </tr>\n",
       "    <tr>\n",
       "      <th>19</th>\n",
       "      <td>S20</td>\n",
       "      <td>90</td>\n",
       "    </tr>\n",
       "    <tr>\n",
       "      <th>20</th>\n",
       "      <td>S21</td>\n",
       "      <td>120</td>\n",
       "    </tr>\n",
       "    <tr>\n",
       "      <th>21</th>\n",
       "      <td>S22</td>\n",
       "      <td>100</td>\n",
       "    </tr>\n",
       "    <tr>\n",
       "      <th>22</th>\n",
       "      <td>S23</td>\n",
       "      <td>110</td>\n",
       "    </tr>\n",
       "    <tr>\n",
       "      <th>23</th>\n",
       "      <td>S24</td>\n",
       "      <td>75</td>\n",
       "    </tr>\n",
       "    <tr>\n",
       "      <th>24</th>\n",
       "      <td>S25</td>\n",
       "      <td>65</td>\n",
       "    </tr>\n",
       "  </tbody>\n",
       "</table>\n",
       "</div>"
      ],
      "text/plain": [
       "   sales_id  transaction_amount\n",
       "0        S1                 100\n",
       "1        S2                 150\n",
       "2        S3                  50\n",
       "3        S4                 100\n",
       "4        S5                 130\n",
       "5        S6                 120\n",
       "6        S7                 100\n",
       "7        S8                  85\n",
       "8        S9                  70\n",
       "9       S10                 150\n",
       "10      S11                 150\n",
       "11      S12                 120\n",
       "12      S13                  50\n",
       "13      S14                 100\n",
       "14      S15                 100\n",
       "15      S16                 140\n",
       "16      S17                  90\n",
       "17      S18                 150\n",
       "18      S19                  50\n",
       "19      S20                  90\n",
       "20      S21                 120\n",
       "21      S22                 100\n",
       "22      S23                 110\n",
       "23      S24                  75\n",
       "24      S25                  65"
      ]
     },
     "execution_count": 5,
     "metadata": {},
     "output_type": "execute_result"
    }
   ],
   "source": [
    "TransactionAmount"
   ]
  },
  {
   "cell_type": "code",
   "execution_count": 6,
   "id": "f5ae3203-bde2-4abc-9053-fcf717e06763",
   "metadata": {},
   "outputs": [],
   "source": [
    "#measure of central tendency"
   ]
  },
  {
   "cell_type": "code",
   "execution_count": 19,
   "id": "11fc17e0-2ef4-478f-bead-7331870df6a6",
   "metadata": {},
   "outputs": [
    {
     "data": {
      "text/plain": [
       "array([100, 150,  50, 100, 130, 120, 100,  85,  70, 150, 150, 120,  50,\n",
       "       100, 100, 140,  90, 150,  50,  90, 120, 100, 110,  75,  65])"
      ]
     },
     "execution_count": 19,
     "metadata": {},
     "output_type": "execute_result"
    }
   ],
   "source": [
    "TransactionAmount = np.array([100, 150, 50, 100, 130, 120, 100, 85, 70, 150, 150, 120, 50, 100, 100, 140, 90, 150, 50, 90, 120, 100, 110, 75, 65])\n",
    "sales_id = [\"S1\", \"S2\", \"S3\", \"S4\", \"S5\", \"S6\", \"S7\", \"S8\", \"S9\", \"S10\", \"S11\", \"S12\", \"S13\", \"S14\", \"S15\", \"S16\", \"S17\", \"S18\", \"S19\", \"S20\", \"S21\", \"S22\", \"S23\", \"S24\", \"S25\"]\n",
    "TransactionAmount"
   ]
  },
  {
   "cell_type": "code",
   "execution_count": 20,
   "id": "9ecf4e2f-e4d4-4bb9-8277-1087ffae71fa",
   "metadata": {},
   "outputs": [
    {
     "name": "stdout",
     "output_type": "stream",
     "text": [
      "102\n",
      "100\n"
     ]
    }
   ],
   "source": [
    "import statistics\n",
    "print(statistics.mean(TransactionAmount))\n",
    "print(statistics.median(TransactionAmount))"
   ]
  },
  {
   "cell_type": "code",
   "execution_count": 21,
   "id": "989ff708-0e46-4adc-b80a-832d847fcd1c",
   "metadata": {},
   "outputs": [
    {
     "data": {
      "text/plain": [
       "'S1'"
      ]
     },
     "execution_count": 21,
     "metadata": {},
     "output_type": "execute_result"
    }
   ],
   "source": [
    "statistics.mode(sales_id)"
   ]
  },
  {
   "cell_type": "code",
   "execution_count": 22,
   "id": "662a52bf-17ca-48b4-bc8b-0ba1ebe8988d",
   "metadata": {},
   "outputs": [
    {
     "data": {
      "text/plain": [
       "['S1',\n",
       " 'S2',\n",
       " 'S3',\n",
       " 'S4',\n",
       " 'S5',\n",
       " 'S6',\n",
       " 'S7',\n",
       " 'S8',\n",
       " 'S9',\n",
       " 'S10',\n",
       " 'S11',\n",
       " 'S12',\n",
       " 'S13',\n",
       " 'S14',\n",
       " 'S15',\n",
       " 'S16',\n",
       " 'S17',\n",
       " 'S18',\n",
       " 'S19',\n",
       " 'S20',\n",
       " 'S21',\n",
       " 'S22',\n",
       " 'S23',\n",
       " 'S24',\n",
       " 'S25']"
      ]
     },
     "execution_count": 22,
     "metadata": {},
     "output_type": "execute_result"
    }
   ],
   "source": [
    "statistics.multimode(sales_id)"
   ]
  },
  {
   "cell_type": "code",
   "execution_count": 11,
   "id": "fc3ffdb4-41cc-46c3-a97b-38d99ed2292b",
   "metadata": {},
   "outputs": [],
   "source": [
    "#measure of variability"
   ]
  },
  {
   "cell_type": "code",
   "execution_count": 23,
   "id": "47b82bc4-5af0-426a-bd66-a81709e0ceb5",
   "metadata": {},
   "outputs": [
    {
     "name": "stdout",
     "output_type": "stream",
     "text": [
      "972.2399999999999\n",
      "31.18076330047101\n",
      "100\n",
      "85.0\n",
      "100.0\n",
      "120.0\n"
     ]
    }
   ],
   "source": [
    "import numpy as np\n",
    "print(np.var(TransactionAmount))\n",
    "print(np.std(TransactionAmount))\n",
    "print(np.max(TransactionAmount) - np.min(TransactionAmount))\n",
    "print(np.quantile(TransactionAmount, 0.25)) #Q1\n",
    "print(np.quantile(TransactionAmount, 0.5)) #Q2\n",
    "print(np.quantile(TransactionAmount, 0.75)) #Q3"
   ]
  },
  {
   "cell_type": "code",
   "execution_count": 16,
   "id": "58544b60-c832-414b-bd8d-f88ff827e284",
   "metadata": {},
   "outputs": [],
   "source": [
    "#T-Test \n",
    "import scipy.stats as stats "
   ]
  },
  {
   "cell_type": "code",
   "execution_count": 24,
   "id": "30f4d301-bec7-497e-9819-311b1fe9b4ce",
   "metadata": {},
   "outputs": [
    {
     "data": {
      "text/plain": [
       "array([100, 150,  50, 100, 130, 120, 100,  85,  70, 150, 150, 120,  50,\n",
       "       100, 100, 140,  90, 150,  50,  90, 120, 100, 110,  75,  65])"
      ]
     },
     "execution_count": 24,
     "metadata": {},
     "output_type": "execute_result"
    }
   ],
   "source": [
    "#import data\n",
    "data_sales = np.array([100, 150, 50, 100, 130, 120, 100, 85, 70, 150, 150, 120, 50, 100, 100, 140, 90, 150, 50, 90, 120, 100, 110, 75, 65])\n",
    "data_sales"
   ]
  },
  {
   "cell_type": "code",
   "execution_count": 26,
   "id": "c49b36c9-3c53-44d1-a356-9b097c4ebb47",
   "metadata": {},
   "outputs": [
    {
     "data": {
      "text/plain": [
       "25"
      ]
     },
     "execution_count": 26,
     "metadata": {},
     "output_type": "execute_result"
    }
   ],
   "source": [
    "len(data_sales)"
   ]
  },
  {
   "cell_type": "code",
   "execution_count": null,
   "id": "a9111202-bed1-41fd-85bc-336ab4448428",
   "metadata": {},
   "outputs": [],
   "source": [
    "#defisini H0 dan H1\n",
    "#H0 : rata-rata = $100\n",
    "#H1 : rata-rata > $100\n",
    "#definisi alpha = 0.05 / 5%"
   ]
  },
  {
   "cell_type": "code",
   "execution_count": 27,
   "id": "5a089703-0594-4668-9cef-d5164d2c0dc9",
   "metadata": {},
   "outputs": [
    {
     "data": {
      "text/plain": [
       "TtestResult(statistic=0.4085001556802841, pvalue=0.6865284813438117, df=24)"
      ]
     },
     "execution_count": 27,
     "metadata": {},
     "output_type": "execute_result"
    }
   ],
   "source": [
    "#popmean = rata rata penjualan sebelum training\n",
    "stats.ttest_1samp(a=data_sales, popmean=100)"
   ]
  },
  {
   "cell_type": "code",
   "execution_count": null,
   "id": "c2728ecc-b3fc-40c8-972c-d7a87bf16a75",
   "metadata": {},
   "outputs": [],
   "source": [
    "#statistic = 0.4085001556802841, pvalue = 0.6865284813438117\n",
    "#jika p value lebih besar dari alpha (5% / 0.05), maka gagal menolak H0\n",
    "#kesimpulan : hasil dari sales force training tidak efektif, karena rata-rata penjualan oleh sales setelah dilakukan training masih berada di $100"
   ]
  },
  {
   "cell_type": "code",
   "execution_count": 29,
   "id": "8407d361-da86-4435-805b-4ba7a7f33029",
   "metadata": {},
   "outputs": [
    {
     "data": {
      "text/plain": [
       "1.7108820799094275"
      ]
     },
     "execution_count": 29,
     "metadata": {},
     "output_type": "execute_result"
    }
   ],
   "source": [
    "#mencari critical region\n",
    "stats.t.ppf(1-0.05, 24)"
   ]
  },
  {
   "cell_type": "code",
   "execution_count": null,
   "id": "c1900e25-d6cb-430c-ba5a-3280d7a2129d",
   "metadata": {},
   "outputs": [],
   "source": [
    "#critical region = t > 1.71\n",
    "#karena t-statistic (0.4085001556802841) tidak didalam dari critical region (> 1.7108820799094275), maka H0 ditolak\n",
    "#kesimpulan : hasil dari sales force training tidak efektif, karena rata-rata transaksi oleh sales  setelah dilakukan training masih berada di $100"
   ]
  }
 ],
 "metadata": {
  "kernelspec": {
   "display_name": "Python [conda env:base] *",
   "language": "python",
   "name": "conda-base-py"
  },
  "language_info": {
   "codemirror_mode": {
    "name": "ipython",
    "version": 3
   },
   "file_extension": ".py",
   "mimetype": "text/x-python",
   "name": "python",
   "nbconvert_exporter": "python",
   "pygments_lexer": "ipython3",
   "version": "3.12.7"
  }
 },
 "nbformat": 4,
 "nbformat_minor": 5
}
